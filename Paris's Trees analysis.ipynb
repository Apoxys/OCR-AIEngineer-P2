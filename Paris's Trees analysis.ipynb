{
 "cells": [
  {
   "cell_type": "markdown",
   "id": "073cf7df",
   "metadata": {},
   "source": [
    "# Paris' trees analysis\n",
    "## Objective:\n",
    "\n",
    "Define a better inspection route for gardeners to take care of the city's trees\n",
    "\n",
    "With the identification of types and caracteristics, routes could be planned to minimize mouvements and optimize the work force.\n",
    "## Caracteristics:\n",
    "\n",
    "What makes two trees alike / different ? Size ? Height ? Health ? Location ?"
   ]
  },
  {
   "cell_type": "markdown",
   "id": "dc5a9a27",
   "metadata": {},
   "source": [
    "Created a new venv, and installed libraries using the shell\n",
    "$ pip install pandas numpy matplotlib seaborn"
   ]
  },
  {
   "cell_type": "code",
   "execution_count": null,
   "id": "bb31b220",
   "metadata": {},
   "outputs": [],
   "source": [
    "import pandas as pd\n",
    "import numpy as np\n",
    "import matplotlib.pyplot as plt\n",
    "import seaborn as sns"
   ]
  },
  {
   "cell_type": "code",
   "execution_count": null,
   "id": "125a8a43",
   "metadata": {},
   "outputs": [],
   "source": [
    "data = pd.read_csv('p2-arbres-fr.csv', sep = \";\")"
   ]
  },
  {
   "cell_type": "code",
   "execution_count": null,
   "id": "5cbe1f64",
   "metadata": {
    "scrolled": true
   },
   "outputs": [],
   "source": [
    "data.head(5)"
   ]
  },
  {
   "cell_type": "code",
   "execution_count": null,
   "id": "433ed345",
   "metadata": {},
   "outputs": [],
   "source": [
    "data.describe()"
   ]
  },
  {
   "cell_type": "markdown",
   "id": "5359fb3a",
   "metadata": {},
   "source": [
    "Already we can observe that continuous features \"circonference_cm\" and \"hauteur_m\" have abnormal max values, which will need cleaning because that falsifies std and mean"
   ]
  },
  {
   "cell_type": "code",
   "execution_count": null,
   "id": "7498d373",
   "metadata": {},
   "outputs": [],
   "source": [
    "data.info()"
   ]
  },
  {
   "cell_type": "markdown",
   "id": "40377d3f",
   "metadata": {},
   "source": [
    "## First glance :\n",
    "### Structure:\n",
    "\n",
    "    18 columns\n",
    "    200137 lines\n",
    "\n",
    "Now to print a detail of each column"
   ]
  },
  {
   "cell_type": "code",
   "execution_count": null,
   "id": "16c4308d",
   "metadata": {},
   "outputs": [],
   "source": [
    "max_value=200137\n",
    "\n",
    "for col in data:\n",
    "    unique_counter = data[col].nunique()\n",
    "    if unique_counter == max_value:\n",
    "        print({col}, \"\\n\" ,\"Only unique values\",\"\\n\")\n",
    "    else:\n",
    "        count = data[col].value_counts()\n",
    "        freq = data[col].value_counts(normalize=True)\n",
    "\n",
    "        dat = {\"Count\" :count , \"Freq\":freq}\n",
    "\n",
    "        df = pd.DataFrame(dat)\n",
    "        print({col},\"\\n\" ,\"Unique_counter: \", unique_counter, \"\\n\" ,df,\"\\n\")"
   ]
  },
  {
   "cell_type": "markdown",
   "id": "41015a6e",
   "metadata": {},
   "source": [
    "\n",
    "## Inspection of each column:\n",
    "\n",
    "1.   \"id\" => tree identifier => to be kept as is\n",
    "2.   \"type_emplacement\" => 1 unique => no information on trees => to be *removed*\n",
    "3.   \"domanialite\" => 90% of trees in 3 categories => to be **modified**\n",
    "4.   \"arrondissement\" => various data => relevant to organize => to be kept as is\n",
    "5. \"complement_addresse\" => can't be read by humans => to be *removed*\n",
    "6. \"numero\" => 0 non-null => empty column => to be *removed*\n",
    "7. \"lieu\" => incoherent => some have added information and others don't => to be **modified**\n",
    "8. \"id_emplacement\" => can't be read by humans => to be *removed*\n",
    "9. \"libelle_francais\" => not sure if important => to be kept as is\n",
    "10. \"genre\" => scientific classification => to be kept as is\n",
    "11. \"espece\" => scientific classification => to be kept as is\n",
    "12. \"variete\" => scientific classification => to be kept as is\n",
    "13. \"circonference_cm\" => abnormal data => to be **modified**\n",
    "14. \"hauteur_m\" => abnormal data => to be **modified**\n",
    "15. \"stade_developpement\" => hardly readable => to be **modified**\n",
    "16. \"remarquable\" => 0 / 1 => needs to be translated into \"yes\" / \"no\" => to be **modified**\n",
    "17. \"geo_point_2d_a/geo_point_2d_b\" => coordinates => to be kept as is\n",
    "\n",
    "### Columns to be kept:\n",
    "1. \"id\"\n",
    "2. \"arrondissement\"\n",
    "3. \"libelle_francais\"\n",
    "4. \"genre\"\n",
    "5. \"espece\"\n",
    "6. \"variete\"\n",
    "7. \"geo_point_2d_a\"\n",
    "8. \"geo_point_2d_b\"\n",
    "\n",
    "### Columns to be modified:\n",
    "1. \"domanialite\"\n",
    "2. \"lieu\"\n",
    "3. \"circonference_cm\"\n",
    "4. \"hauteur_m\"\n",
    "5. \"stade_developpement\"\n",
    "6. \"remarquable\"\n",
    "\n",
    "\n",
    "### Irrelevant columns:\n",
    "1. \"type_emplacement\"\n",
    "2. \"complement_addresse\"\n",
    "3. \"numero\"\n",
    "4. \"id_emplacement\""
   ]
  },
  {
   "cell_type": "markdown",
   "id": "93344948",
   "metadata": {},
   "source": [
    "## Cleaning"
   ]
  },
  {
   "cell_type": "markdown",
   "id": "ca2b3860",
   "metadata": {},
   "source": [
    "### 1.   Create new dataframe without irrelevant columns"
   ]
  },
  {
   "cell_type": "code",
   "execution_count": null,
   "id": "c88dc227",
   "metadata": {},
   "outputs": [],
   "source": [
    "clearer_data = data.drop({\"type_emplacement\",\n",
    "                          \"complement_addresse\",\n",
    "                          \"numero\",\n",
    "                          \"id_emplacement\"},\n",
    "                         axis=1)\n",
    "clearer_data.head()"
   ]
  },
  {
   "cell_type": "markdown",
   "id": "85c75027",
   "metadata": {},
   "source": [
    "### 2.   Clean and modify columns that need rearrangement"
   ]
  },
  {
   "cell_type": "code",
   "execution_count": null,
   "id": "1800012c",
   "metadata": {},
   "outputs": [],
   "source": [
    "#replace 0 and 1 with \"No\" and \"Yes\" in \"remarquable\"\n",
    "clearer_data[\"remarquable\"].replace({0: \"No\",1:\"Yes\"}, inplace=True)\n",
    "\n",
    "#replace 'A', 'J', 'M', 'JA',  and  with\n",
    "#'Adulte', 'Jeune', 'Mature', 'Jeune Adulte' in \"stade_developpement\"\n",
    "clearer_data[\"stade_developpement\"].replace({\"J\": \"Jeune\",\n",
    "                                             \"JA\":\"Jeune Adulte\",\n",
    "                                             \"A\": \"Adulte\",\n",
    "                                             \"M\": \"Mature\"},\n",
    "                                            inplace=True)\n",
    "\n",
    "#prepare a list of columns which NaNs can easily be filled\n",
    "to_modify = []\n",
    "for col in clearer_data:\n",
    "  miss_norm = clearer_data[col].isna().value_counts(normalize=True)\n",
    "  if True in miss_norm.index:\n",
    "    miss_percent = round(miss_norm.get(True, 0)*100,5)\n",
    "    if miss_percent < 10:\n",
    "      to_modify.append(col)\n",
    "\n",
    "#modifying columns\n",
    "for i in to_modify:\n",
    "  clearer_data[i] = clearer_data[i].fillna(\"Other\")"
   ]
  },
  {
   "cell_type": "markdown",
   "id": "afdf1e68",
   "metadata": {},
   "source": [
    "## Missing values"
   ]
  },
  {
   "cell_type": "code",
   "execution_count": null,
   "id": "62b70685",
   "metadata": {},
   "outputs": [],
   "source": [
    "# Percentage of missing values in each columns\n",
    "for col in clearer_data:\n",
    "  miss_norm = clearer_data[col].isna().value_counts(normalize=True)\n",
    "  if True in miss_norm.index:\n",
    "    miss_values = clearer_data[col].isna().value_counts()\n",
    "    miss_percent = round(miss_norm.get(True, 0)*100,5)\n",
    "    print(f\"{col}\",\"\\n\",miss_percent,\"% Missing values\",\"\\n\",\n",
    "          \"Total : \",miss_values.get(True, 0),\"\\n\")"
   ]
  },
  {
   "cell_type": "markdown",
   "id": "c71f0417",
   "metadata": {},
   "source": [
    "### Inferences possibilities\n",
    "\n",
    "* \"stade_developpement\" and \"remarquable\" 34%, and 32% missing values.\n",
    "* \"variete\" has 82% missing values.\n",
    "\n",
    "We can't infer values statistically, as these are categorical features.\n",
    "\n",
    "1.   \"variete\": try to infer depending on \"genre\" and \"espece\" ? same genre and same specie may imply same variete\n",
    "\n",
    "=> after research, knowing variety could be irrelevant to trees maintenance\n",
    "\n",
    "2.   \"stade_developpement\": try to infer depending on \"espece\", \"hauteur_cm\" and \"circonference_cm\" ? a certain height and circumference may imply a growth stage for a certain tree specie\n",
    "\n",
    "=> in any case,\n",
    "\n",
    "3.   \"remarquable\": can't be infered at all\n",
    "\n",
    "Wee can however work on continuous categories such as hauteur_m and circonference_cm\n",
    "We will start with \"hauteur_m\""
   ]
  },
  {
   "cell_type": "markdown",
   "id": "b5eb4b0c",
   "metadata": {},
   "source": [
    "## Hauteur_m\n",
    "\n",
    "We will try and clean this categorie by trying to find abnormal values and outliers, by a min/max approach and a statistical approach"
   ]
  },
  {
   "cell_type": "markdown",
   "id": "80b6964a",
   "metadata": {},
   "source": [
    "### Min/Max approach"
   ]
  },
  {
   "cell_type": "code",
   "execution_count": null,
   "id": "ac024273",
   "metadata": {},
   "outputs": [],
   "source": [
    "clearer_data[\"hauteur_m\"].describe()"
   ]
  },
  {
   "cell_type": "markdown",
   "id": "e0e93c04",
   "metadata": {},
   "source": [
    "This Max height is seems impossible, as research indicates that the tallest tree in the world is 115m high.\n",
    "We will drop out all values above 115m"
   ]
  },
  {
   "cell_type": "code",
   "execution_count": null,
   "id": "720f6d60",
   "metadata": {},
   "outputs": [],
   "source": [
    "i = clearer_data.loc[clearer_data[\"hauteur_m\"] > 115].index\n",
    "clearer_data.drop(i, inplace=True)\n",
    "clearer_data.info()"
   ]
  },
  {
   "cell_type": "markdown",
   "id": "2b10bb8a",
   "metadata": {},
   "source": [
    "It might be better to replace abnormal values with NaN so trees can be mesured again, but since dropped trees represent less than 0.5% of total data, so for our analytic purpose it is fine to drop them.\n",
    "\n",
    "We then check again the now highest tree"
   ]
  },
  {
   "cell_type": "code",
   "execution_count": null,
   "id": "460469b9",
   "metadata": {},
   "outputs": [],
   "source": [
    "#check again new highest\n",
    "i = np.argmax(clearer_data[\"hauteur_m\"])\n",
    "print(clearer_data[\"hauteur_m\"].describe(),\"\\n\",clearer_data.iloc[i])"
   ]
  },
  {
   "cell_type": "markdown",
   "id": "7e3a42ca",
   "metadata": {},
   "source": [
    "Research indicates that \"mature\" platanus can grow up to 50m. This one is indicated as a \"young\", so the data must be erroneous.\n",
    "\n",
    "This demonstrates that the min/max approach isn't enough, we will therefore move on to a statistical approach"
   ]
  },
  {
   "cell_type": "markdown",
   "id": "c576c6cf",
   "metadata": {},
   "source": [
    "### Statistical approach\n",
    "To start this approach we will check:\n",
    "\n",
    "*   Q1 and Q3\n",
    "*   IQR\n",
    "*   Mean and median\n",
    "*   Mode\n",
    "\n"
   ]
  },
  {
   "cell_type": "code",
   "execution_count": null,
   "id": "baf8c269",
   "metadata": {},
   "outputs": [],
   "source": [
    "Q1, Q2, Q3 = np.percentile(clearer_data[\"hauteur_m\"], [25,50,75])\n",
    "mean_haut = np.mean(clearer_data[\"hauteur_m\"])\n",
    "IQR = Q3-Q1\n",
    "mode = sts.mode(clearer_data[\"hauteur_m\"])\n",
    "print(\"Q1:\",Q1,'\\n', \"Q3:\",Q3,'\\n', \"IQR:\",IQR)\n",
    "print(\"median:\",Q2,'\\n',\"mean:\",mean_haut)\n",
    "print(\"mode:\", mode)"
   ]
  },
  {
   "cell_type": "markdown",
   "id": "a717e0b9",
   "metadata": {},
   "source": [
    "This underlines a few issues:\n",
    "* The mode is 0m with 39219 occurences, which would mean that 20% of Paris's trees are not grown at all, which seems impossible\n",
    "* The median being less sensitive than the mean, we could trust its value, but the mean itself must be flawed.\n",
    "\n",
    "We can plot a graphic to visually represent the data"
   ]
  },
  {
   "cell_type": "code",
   "execution_count": null,
   "id": "a86a6fd3",
   "metadata": {},
   "outputs": [],
   "source": [
    "sns.histplot(clearer_data, x=\"hauteur_m\").set(title=\"Trees height\", xlabel=\"Height (m)\")"
   ]
  },
  {
   "cell_type": "markdown",
   "id": "e1bc024b",
   "metadata": {},
   "source": [
    "We can see that the 0s are indeed far too many, but also that beyond 30m, data seems to thin considerably, which could mean a lot of errors.\n",
    "\n",
    "For now let's replace the 0s with NaN. It will be up to the city of Paris to re-measure the trees"
   ]
  },
  {
   "cell_type": "code",
   "execution_count": null,
   "id": "a06c6ffb",
   "metadata": {},
   "outputs": [],
   "source": [
    "#Create a copy of data because we will be performing some work on it\n",
    "cldat_copy = clearer_data.copy()\n",
    "\n",
    "#replace 0 with nan and check data again\n",
    "cldat_copy[\"hauteur_m\"].where(cldat_copy[\"hauteur_m\"] > 0, inplace=True)\n",
    "print(cldat_copy[\"hauteur_m\"].describe())"
   ]
  },
  {
   "cell_type": "markdown",
   "id": "c7167ff2",
   "metadata": {},
   "source": [
    "It now seems clearer, so we will define and remove outliers before looking at a graphic of the distribution again\n",
    "We will us the IQR method to define lower and upper bounds"
   ]
  },
  {
   "cell_type": "code",
   "execution_count": null,
   "id": "108c7f0d",
   "metadata": {},
   "outputs": [],
   "source": [
    "#define lower and upper bounds\n",
    "lower_bound = Q1-(IQR*1.5)\n",
    "upper_bound = Q3+(IQR*1.5)\n",
    "\n",
    "#define the limits of an average tree into a dataframe for latter usage if needed\n",
    "limits = pd.DataFrame({\n",
    "        'hauteur_m': [\n",
    "        max(cldat_copy[\"hauteur_m\"].min(), lower_bound), # min\n",
    "        upper_bound, # max\n",
    "    ]\n",
    "}, index=['min', 'max'])\n",
    "\n",
    "display(limits)"
   ]
  },
  {
   "cell_type": "markdown",
   "id": "fe6c1f97",
   "metadata": {},
   "source": [
    "An \"average\" tree will be between 1m and 26m in height\n",
    "\n",
    "Knowing that, we will drop outliers to represent the tree canopy of Paris"
   ]
  },
  {
   "cell_type": "code",
   "execution_count": null,
   "id": "9f754640",
   "metadata": {},
   "outputs": [],
   "source": [
    "#define outliers\n",
    "outliers = cldat_copy[\n",
    "    (cldat_copy['hauteur_m'] <= limits.loc['min','hauteur_m'])\n",
    "    |(cldat_copy['hauteur_m'] >= limits.loc['max','hauteur_m'])\n",
    "   ]\n",
    "\n",
    "#drop outliers from \"main\" dataframe\n",
    "outlier_mask=((cldat_copy['hauteur_m'] < limits.loc['min','hauteur_m'])\n",
    "    |(cldat_copy['hauteur_m'] > limits.loc['max','hauteur_m']))\n",
    "cldat_copy.drop(cldat_copy[outlier_mask].index, inplace=True)\n",
    "\n",
    "#graph histplot with a developpment_stage hue, as tallest tree should be the oldest\n",
    "sns.histplot(cldat_copy, \n",
    "             x=\"hauteur_m\", \n",
    "             hue=\"stade_developpement\", \n",
    "             element=\"step\", \n",
    "             multiple=\"dodge\").set(title='Tree height by maturing degree',\n",
    "                                   xlabel=\"Height (m)\", \n",
    "                                   ylabel=\"Count\")"
   ]
  },
  {
   "cell_type": "markdown",
   "id": "5b1000e5",
   "metadata": {},
   "source": [
    "Globally tallest trees are the oldest, so everything seems to be in order. There might be errors, but we don't have means of finding them with present methods"
   ]
  }
 ],
 "metadata": {
  "kernelspec": {
   "display_name": "Python 3 (ipykernel)",
   "language": "python",
   "name": "python3"
  },
  "language_info": {
   "codemirror_mode": {
    "name": "ipython",
    "version": 3
   },
   "file_extension": ".py",
   "mimetype": "text/x-python",
   "name": "python",
   "nbconvert_exporter": "python",
   "pygments_lexer": "ipython3",
   "version": "3.10.7"
  }
 },
 "nbformat": 4,
 "nbformat_minor": 5
}
