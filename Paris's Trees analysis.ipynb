{
 "cells": [
  {
   "cell_type": "markdown",
   "id": "073cf7df",
   "metadata": {},
   "source": [
    "# Paris' trees analysis\n",
    "## Objective:\n",
    "\n",
    "Define a better inspection route for gardeners to take care of the city's trees\n",
    "\n",
    "With the identification of types and caracteristics, routes could be planned to minimize mouvements and optimize the work force.\n",
    "## Caracteristics:\n",
    "\n",
    "What makes two trees alike / different ? Size ? Height ? Health ? Location ?"
   ]
  },
  {
   "cell_type": "markdown",
   "id": "dc5a9a27",
   "metadata": {},
   "source": [
    "Created a new venv, and installed libraries using the shell\n",
    "$ pip install pandas numpy matplotlib seaborn"
   ]
  },
  {
   "cell_type": "code",
   "execution_count": null,
   "id": "bb31b220",
   "metadata": {},
   "outputs": [],
   "source": [
    "import pandas as pd\n",
    "import numpy as np\n",
    "import matplotlib.pyplot as plt\n",
    "import seaborn as sns"
   ]
  },
  {
   "cell_type": "code",
   "execution_count": null,
   "id": "125a8a43",
   "metadata": {},
   "outputs": [],
   "source": [
    "data = pd.read_csv('p2-arbres-fr.csv', sep = \";\")"
   ]
  },
  {
   "cell_type": "code",
   "execution_count": null,
   "id": "5cbe1f64",
   "metadata": {
    "scrolled": true
   },
   "outputs": [],
   "source": [
    "data.head(5)"
   ]
  },
  {
   "cell_type": "code",
   "execution_count": null,
   "id": "433ed345",
   "metadata": {},
   "outputs": [],
   "source": [
    "data.describe()"
   ]
  },
  {
   "cell_type": "markdown",
   "id": "5359fb3a",
   "metadata": {},
   "source": [
    "Already we can observe that continuous features \"circonference_cm\" and \"hauteur_m\" have abnormal max values, which will need cleaning because that falsifies std and mean"
   ]
  },
  {
   "cell_type": "code",
   "execution_count": null,
   "id": "7498d373",
   "metadata": {},
   "outputs": [],
   "source": [
    "data.info()"
   ]
  },
  {
   "cell_type": "markdown",
   "id": "40377d3f",
   "metadata": {},
   "source": [
    "## First glance :\n",
    "### Structure:\n",
    "\n",
    "    18 columns\n",
    "    200137 lines\n",
    "\n",
    "Now to print a detail of each column"
   ]
  },
  {
   "cell_type": "code",
   "execution_count": null,
   "id": "16c4308d",
   "metadata": {},
   "outputs": [],
   "source": [
    "max_value=200137\n",
    "\n",
    "for col in data:\n",
    "    unique_counter = data[col].nunique()\n",
    "    if unique_counter == max_value:\n",
    "        print({col}, \"\\n\" ,\"Only unique values\",\"\\n\")\n",
    "    else:\n",
    "        count = data[col].value_counts()\n",
    "        freq = data[col].value_counts(normalize=True)\n",
    "\n",
    "        dat = {\"Count\" :count , \"Freq\":freq}\n",
    "\n",
    "        df = pd.DataFrame(dat)\n",
    "        print({col},\"\\n\" ,\"Unique_counter: \", unique_counter, \"\\n\" ,df,\"\\n\")"
   ]
  },
  {
   "cell_type": "markdown",
   "id": "41015a6e",
   "metadata": {},
   "source": [
    "\n",
    "## Inspection of each column:\n",
    "\n",
    "1.   \"id\" => tree identifier => to be kept as is\n",
    "2.   \"type_emplacement\" => 1 unique => no information on trees => to be *removed*\n",
    "3.   \"domanialite\" => 90% of trees in 3 categories => to be **modified**\n",
    "4.   \"arrondissement\" => various data => relevant to organize => to be kept as is\n",
    "5. \"complement_addresse\" => can't be read by humans => to be *removed*\n",
    "6. \"numero\" => 0 non-null => empty column => to be *removed*\n",
    "7. \"lieu\" => incoherent => some have added information and others don't => to be **modified**\n",
    "8. \"id_emplacement\" => can't be read by humans => to be *removed*\n",
    "9. \"libelle_francais\" => not sure if important => to be kept as is\n",
    "10. \"genre\" => scientific classification => to be kept as is\n",
    "11. \"espece\" => scientific classification => to be kept as is\n",
    "12. \"variete\" => scientific classification => to be kept as is\n",
    "13. \"circonference_cm\" => abnormal data => to be **modified**\n",
    "14. \"hauteur_m\" => abnormal data => to be **modified**\n",
    "15. \"stade_developpement\" => hardly readable => to be **modified**\n",
    "16. \"remarquable\" => 0 / 1 => needs to be translated into \"yes\" / \"no\" => to be **modified**\n",
    "17. \"geo_point_2d_a/geo_point_2d_b\" => coordinates => to be kept as is\n",
    "\n",
    "### Columns to be kept:\n",
    "1. \"id\"\n",
    "2. \"arrondissement\"\n",
    "3. \"libelle_francais\"\n",
    "4. \"genre\"\n",
    "5. \"espece\"\n",
    "6. \"variete\"\n",
    "7. \"geo_point_2d_a\"\n",
    "8. \"geo_point_2d_b\"\n",
    "\n",
    "### Columns to be modified:\n",
    "1. \"domanialite\"\n",
    "2. \"lieu\"\n",
    "3. \"circonference_cm\"\n",
    "4. \"hauteur_m\"\n",
    "5. \"stade_developpement\"\n",
    "6. \"remarquable\"\n",
    "\n",
    "\n",
    "### Irrelevant columns:\n",
    "1. \"type_emplacement\"\n",
    "2. \"complement_addresse\"\n",
    "3. \"numero\"\n",
    "4. \"id_emplacement\""
   ]
  },
  {
   "cell_type": "markdown",
   "id": "93344948",
   "metadata": {},
   "source": [
    "## Cleaning"
   ]
  },
  {
   "cell_type": "markdown",
   "id": "ca2b3860",
   "metadata": {},
   "source": [
    "### 1.   Create new dataframe without irrelevant columns"
   ]
  },
  {
   "cell_type": "code",
   "execution_count": null,
   "id": "c88dc227",
   "metadata": {},
   "outputs": [],
   "source": [
    "clearer_data = data.drop({\"type_emplacement\",\n",
    "                          \"complement_addresse\",\n",
    "                          \"numero\",\n",
    "                          \"id_emplacement\"},\n",
    "                         axis=1)\n",
    "clearer_data.head()"
   ]
  },
  {
   "cell_type": "markdown",
   "id": "85c75027",
   "metadata": {},
   "source": [
    "### 2.   Clean and modify columns that need rearrangement"
   ]
  },
  {
   "cell_type": "code",
   "execution_count": null,
   "id": "1800012c",
   "metadata": {},
   "outputs": [],
   "source": [
    "#replace 0 and 1 with \"No\" and \"Yes\" in \"remarquable\"\n",
    "clearer_data[\"remarquable\"].replace({0: \"No\",1:\"Yes\"}, inplace=True)\n",
    "\n",
    "#replace 'A', 'J', 'M', 'JA',  and  with\n",
    "#'Adulte', 'Jeune', 'Mature', 'Jeune Adulte' in \"stade_developpement\"\n",
    "clearer_data[\"stade_developpement\"].replace({\"J\": \"Jeune\",\n",
    "                                             \"JA\":\"Jeune Adulte\",\n",
    "                                             \"A\": \"Adulte\",\n",
    "                                             \"M\": \"Mature\"},\n",
    "                                            inplace=True)\n",
    "\n",
    "#prepare a list of columns which NaNs can easily be filled\n",
    "to_modify = []\n",
    "for col in clearer_data:\n",
    "  miss_norm = clearer_data[col].isna().value_counts(normalize=True)\n",
    "  if True in miss_norm.index:\n",
    "    miss_percent = round(miss_norm.get(True, 0)*100,5)\n",
    "    if miss_percent < 10:\n",
    "      to_modify.append(col)\n",
    "\n",
    "#modifying columns\n",
    "for i in to_modify:\n",
    "  clearer_data[i] = clearer_data[i].fillna(\"Other\")"
   ]
  },
  {
   "cell_type": "markdown",
   "id": "afdf1e68",
   "metadata": {},
   "source": [
    "## Missing values"
   ]
  },
  {
   "cell_type": "code",
   "execution_count": null,
   "id": "62b70685",
   "metadata": {},
   "outputs": [],
   "source": [
    "# Percentage of missing values in each columns\n",
    "for col in clearer_data:\n",
    "  miss_norm = clearer_data[col].isna().value_counts(normalize=True)\n",
    "  if True in miss_norm.index:\n",
    "    miss_values = clearer_data[col].isna().value_counts()\n",
    "    miss_percent = round(miss_norm.get(True, 0)*100,5)\n",
    "    print(f\"{col}\",\"\\n\",miss_percent,\"% Missing values\",\"\\n\",\n",
    "          \"Total : \",miss_values.get(True, 0),\"\\n\")"
   ]
  },
  {
   "cell_type": "markdown",
   "id": "c71f0417",
   "metadata": {},
   "source": [
    "### Inferences possibilities\n",
    "\n",
    "* \"stade_developpement\" and \"remarquable\" 34%, and 32% missing values.\n",
    "* \"variete\" has 82% missing values.\n",
    "\n",
    "We can't infer values statistically, as these are categorical features.\n",
    "\n",
    "1.   \"variete\": try to infer depending on \"genre\" and \"espece\" ? same genre and same specie may imply same variete\n",
    "\n",
    "=> after research, knowing variety could be irrelevant to trees maintenance\n",
    "\n",
    "2.   \"stade_developpement\": try to infer depending on \"espece\", \"hauteur_cm\" and \"circonference_cm\" ? a certain height and circumference may imply a growth stage for a certain tree specie\n",
    "\n",
    "=> in any case,\n",
    "\n",
    "3.   \"remarquable\": can't be infered at all"
   ]
  }
 ],
 "metadata": {
  "kernelspec": {
   "display_name": "Python 3 (ipykernel)",
   "language": "python",
   "name": "python3"
  },
  "language_info": {
   "codemirror_mode": {
    "name": "ipython",
    "version": 3
   },
   "file_extension": ".py",
   "mimetype": "text/x-python",
   "name": "python",
   "nbconvert_exporter": "python",
   "pygments_lexer": "ipython3",
   "version": "3.10.7"
  }
 },
 "nbformat": 4,
 "nbformat_minor": 5
}
